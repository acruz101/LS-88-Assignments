{
 "cells": [
  {
   "cell_type": "markdown",
   "metadata": {},
   "source": [
    "# LS 88 - Lab 4 - Reinhart and Rogoff\n",
    "\n",
    "---\n",
    "\n",
    "### Instructor Josh Quan & Eric Van Dusen\n",
    "\n",
    "This notebook will explain how an excel file can be limited and hard to replicate by looking at a published research paper. The notebbook will explore the errors discovered from the paper through the analysis of means.\n",
    "\n",
    "---\n",
    "### Topics Covered\n",
    "1. Exclusion of data affects results\n",
    "2. Excel files can be limited and difficult to replicate\n",
    "\n",
    "\n",
    "### Table of Contents\n",
    "\n",
    "1. [Getting the Data](#data) <br>\n",
    "2. [Context](#context) <br>\n",
    "3. [Analyzing Means](#means) <br>\n",
    "4. [Exploration](#explore) <br>\n",
    "5. [Conclusions](#conclusions) <br>\n",
    "6. [Bibliography](#bibliography) <br>\n",
    "\n",
    "\n",
    "\n",
    "**Dependencies:**\n",
    "\n",
    "Run the cell below and continue onwards!"
   ]
  },
  {
   "cell_type": "code",
   "execution_count": 2,
   "metadata": {},
   "outputs": [],
   "source": [
    "from datascience import *\n",
    "import numpy as np\n",
    "import matplotlib.pyplot as plt\n",
    "%matplotlib inline\n",
    "plt.style.use('fivethirtyeight')"
   ]
  },
  {
   "cell_type": "markdown",
   "metadata": {},
   "source": [
    "---\n",
    "\n",
    "## Background <a id='background'></a>\n",
    "In this notebook, you will be working with data used in Carmen Reinhart and Kenneth Rogoff's 2010 study \"Growth in a Time of Debt\". The paper concluded an economic growth severely suffers when a country's public debt reaches 90% of GDP (Gross Domestic Product). They argue that the growth rate for these countries is -0.1. \n",
    "Reinhart and Rogoff's conclusions have been a subject of controversy due to methodological choices, and inability to reproduce findings.\n"
   ]
  },
  {
   "cell_type": "markdown",
   "metadata": {},
   "source": [
    "---\n",
    "\n",
    "## Context  <a id='context'></a>"
   ]
  },
  {
   "cell_type": "markdown",
   "metadata": {},
   "source": [
    "While replicating the results, Herndon, Ash, and Pollin found issues with Reinhart's & Rogoff's analysis. One major error was a coding error that excluded 5 countries, as seen in the image below. R&R typed AVERAGE(L30:L44) instead of AVERAGE(L30:L49) in excel, which excluded Belgium from the analysis.\n"
   ]
  },
  {
   "cell_type": "markdown",
   "metadata": {},
   "source": [
    "<img src=\"excelerror.png\">"
   ]
  },
  {
   "cell_type": "markdown",
   "metadata": {},
   "source": [
    "---\n",
    "\n",
    "## The Data <a id='data'></a>\n",
    "Reinhart and Rogoff's analysis is based on data from 44 countries spanning over 200 years. Economists Thomas Herndon, Michael Ash, and Robert Pollin of the University of Massachusetts were able to replicate the results only after obtaining Reinhart and Rogoff's data. Based on their own findings, they concluded \"average real GDP growth rate for countries carrying a public debt to GDP ratio of over 90 percent is actually 2.2%, not -0.1% as published in R&R\". We will base our own analysis after Herndon's, Ash's, and Pollin's investigation to learn where Reinhart and Rogoff went wrong. \n",
    "\n",
    "\n",
    "---"
   ]
  },
  {
   "cell_type": "markdown",
   "metadata": {},
   "source": [
    "Let's begin by importing the data."
   ]
  },
  {
   "cell_type": "code",
   "execution_count": 26,
   "metadata": {},
   "outputs": [
    {
     "data": {
      "text/html": [
       "<table border=\"1\" class=\"dataframe\">\n",
       "    <thead>\n",
       "        <tr>\n",
       "            <th>Country</th> <th>Year</th> <th>0-30%</th> <th>30-60%</th> <th>60-90%</th> <th>Above 90%</th>\n",
       "        </tr>\n",
       "    </thead>\n",
       "    <tbody>\n",
       "        <tr>\n",
       "            <td>US         </td> <td>1946-2009</td> <td>nan  </td> <td>3.4   </td> <td>3.3   </td> <td>-2       </td>\n",
       "        </tr>\n",
       "        <tr>\n",
       "            <td>UK         </td> <td>1946-2009</td> <td>nan  </td> <td>2.4   </td> <td>2.5   </td> <td>2.4      </td>\n",
       "        </tr>\n",
       "        <tr>\n",
       "            <td>Sweden     </td> <td>1946-2009</td> <td>3.6  </td> <td>2.9   </td> <td>2.7   </td> <td>nan      </td>\n",
       "        </tr>\n",
       "        <tr>\n",
       "            <td>Spain      </td> <td>1946-2009</td> <td>1.5  </td> <td>3.4   </td> <td>4.2   </td> <td>nan      </td>\n",
       "        </tr>\n",
       "        <tr>\n",
       "            <td>Portugal   </td> <td>1952-2009</td> <td>4.8  </td> <td>2.5   </td> <td>0.3   </td> <td>nan      </td>\n",
       "        </tr>\n",
       "        <tr>\n",
       "            <td>New Zealand</td> <td>1948-2009</td> <td>2.5  </td> <td>2.9   </td> <td>3.9   </td> <td>-7.9     </td>\n",
       "        </tr>\n",
       "        <tr>\n",
       "            <td>Netherlands</td> <td>1956-2009</td> <td>4.1  </td> <td>2.7   </td> <td>1.1   </td> <td>nan      </td>\n",
       "        </tr>\n",
       "        <tr>\n",
       "            <td>Norway     </td> <td>1947-2009</td> <td>3.4  </td> <td>5.1   </td> <td>nan   </td> <td>nan      </td>\n",
       "        </tr>\n",
       "        <tr>\n",
       "            <td>Japan      </td> <td>1946-2009</td> <td>7    </td> <td>4     </td> <td>1     </td> <td>0.7      </td>\n",
       "        </tr>\n",
       "        <tr>\n",
       "            <td>Italy      </td> <td>1951-2009</td> <td>5.4  </td> <td>2.1   </td> <td>1.8   </td> <td>1        </td>\n",
       "        </tr>\n",
       "        <tr>\n",
       "            <td>Ireland    </td> <td>1948-2009</td> <td>4.4  </td> <td>4.5   </td> <td>4     </td> <td>2.4      </td>\n",
       "        </tr>\n",
       "        <tr>\n",
       "            <td>Greece     </td> <td>1970-2009</td> <td>4    </td> <td>0.3   </td> <td>2.7   </td> <td>2.9      </td>\n",
       "        </tr>\n",
       "        <tr>\n",
       "            <td>Germany    </td> <td>1946-2009</td> <td>3.9  </td> <td>0.9   </td> <td>nan   </td> <td>nan      </td>\n",
       "        </tr>\n",
       "        <tr>\n",
       "            <td>France     </td> <td>1949-2009</td> <td>4.9  </td> <td>2.7   </td> <td>3     </td> <td>nan      </td>\n",
       "        </tr>\n",
       "        <tr>\n",
       "            <td>Finland    </td> <td>1946-2009</td> <td>3.8  </td> <td>2.4   </td> <td>5.5   </td> <td>nan      </td>\n",
       "        </tr>\n",
       "        <tr>\n",
       "            <td>Denmark    </td> <td>1950-2009</td> <td>3.5  </td> <td>1.7   </td> <td>2.4   </td> <td>nan      </td>\n",
       "        </tr>\n",
       "        <tr>\n",
       "            <td>Canada     </td> <td>1951-2009</td> <td>1.9  </td> <td>3.6   </td> <td>4.1   </td> <td>nan      </td>\n",
       "        </tr>\n",
       "        <tr>\n",
       "            <td>Belgium    </td> <td>1947-2009</td> <td>nan  </td> <td>4.2   </td> <td>3.1   </td> <td>2.6      </td>\n",
       "        </tr>\n",
       "        <tr>\n",
       "            <td>Austria    </td> <td>1948-2009</td> <td>5.2  </td> <td>3.3   </td> <td>-3.8  </td> <td>nan      </td>\n",
       "        </tr>\n",
       "        <tr>\n",
       "            <td>Australia  </td> <td>1951-2009</td> <td>3.2  </td> <td>4.9   </td> <td>4     </td> <td>nan      </td>\n",
       "        </tr>\n",
       "    </tbody>\n",
       "</table>"
      ],
      "text/plain": [
       "<IPython.core.display.HTML object>"
      ]
     },
     "metadata": {},
     "output_type": "display_data"
    }
   ],
   "source": [
    "gdp = Table().read_table('image_data.csv')\n",
    "gdp.show()"
   ]
  },
  {
   "cell_type": "markdown",
   "metadata": {},
   "source": [
    "---"
   ]
  },
  {
   "cell_type": "markdown",
   "metadata": {},
   "source": [
    "## Analyzing Means <a id='means'></a>"
   ]
  },
  {
   "cell_type": "markdown",
   "metadata": {},
   "source": [
    "Let's start off by looking at the mean real GDP growth including all the countries for countries with above 90%. We filter the table first using `not np.isnan()` to remove null values in the column that we are interested in.\n",
    "\n",
    "<!-- _A note on the code:_ Although you are used to using the `tbl.column()` method to access the columns of a table, we can also use **slicing** to select columns; the format for this is `tbl['col_name']`. Also, we can filter the rows of a table using this convention to bypass the `tbl.where()` method by putting an array of boolean values in the brackets, `tbl[bool_arr]`, and we can negate the array using the `~` operator (i.e. `~[True, False, True] = [False, True, False]`. -->"
   ]
  },
  {
   "cell_type": "code",
   "execution_count": 28,
   "metadata": {},
   "outputs": [
    {
     "data": {
      "text/plain": [
       "0.26249999999999996"
      ]
     },
     "execution_count": 28,
     "metadata": {},
     "output_type": "execute_result"
    }
   ],
   "source": [
    "above90 = gdp.where('Above 90%', lambda x: not np.isnan(x)).column('Above 90%')\n",
    "above90.mean()"
   ]
  },
  {
   "cell_type": "markdown",
   "metadata": {},
   "source": [
    "From the image of the excel spreadsheet, we can see that R&R excluded 5 countries from their calculations. Let's see how the means change when we exclude these 5 countries missing."
   ]
  },
  {
   "cell_type": "code",
   "execution_count": 30,
   "metadata": {},
   "outputs": [
    {
     "data": {
      "text/plain": [
       "-0.07142857142857142"
      ]
     },
     "execution_count": 30,
     "metadata": {},
     "output_type": "execute_result"
    }
   ],
   "source": [
    "# remove Belgium because the other 4 countries are nan\n",
    "removed = gdp.where('Country', are.not_equal_to('Belgium'))\n",
    "\n",
    "removed_above90 = removed.where('Above 90%', lambda x: not np.isnan(x)).column('Above 90%')\n",
    "removed_above90.mean()"
   ]
  },
  {
   "cell_type": "markdown",
   "metadata": {},
   "source": [
    "Another issue was that R&R selectively choose their data. They chose to exclude New Zealand, which was an outlier because it was an examples of a high-debt and solid growth. Next, exclude New Zealand from the data and calculate the new column means."
   ]
  },
  {
   "cell_type": "code",
   "execution_count": 10,
   "metadata": {},
   "outputs": [
    {
     "data": {
      "text/plain": [
       "1.4285714285714286"
      ]
     },
     "execution_count": 10,
     "metadata": {},
     "output_type": "execute_result"
    }
   ],
   "source": [
    "# remove New Zealand from the table\n",
    "not_newzealand = gdp.where('Country', are.not_equal_to('New Zealand'))\n",
    "\n",
    "not_newzealand_above90 = not_newzealand.where('Above 90%', lambda x: not np.isnan(x)).column('Above 90%')\n",
    "not_newzealand_above90.mean()"
   ]
  },
  {
   "cell_type": "markdown",
   "metadata": {},
   "source": [
    "**Question 1.** How does the mean change when certain countries are excluded? Explain how each scenario above affects the conclusions you are able to make about gdp growth for countries with a debt-to-gdp ratio above 90%. What lessons can we learn from this about handeling \"outliers\"?"
   ]
  },
  {
   "cell_type": "markdown",
   "metadata": {},
   "source": [
    "**Replace this line with your response.** "
   ]
  },
  {
   "cell_type": "markdown",
   "metadata": {},
   "source": [
    "## Exploration <a id='explore'></a>"
   ]
  },
  {
   "cell_type": "markdown",
   "metadata": {},
   "source": [
    "Let's further explore the relationship between debt-gdp ratio and economic growth. While looking at means is one way to analyze the data, there are several other methods of analysis. "
   ]
  },
  {
   "cell_type": "markdown",
   "metadata": {},
   "source": [
    "Create a bar chart to visualize real GDP growth for each country and debt-gdp category. "
   ]
  },
  {
   "cell_type": "code",
   "execution_count": 11,
   "metadata": {},
   "outputs": [
    {
     "data": {
      "image/png": "[encoded data removed]",
      "text/plain": [
       "<Figure size 432x720 with 1 Axes>"
      ]
     },
     "metadata": {},
     "output_type": "display_data"
    }
   ],
   "source": [
    "gdp.drop('Year').barh('Country')"
   ]
  },
  {
   "cell_type": "markdown",
   "metadata": {},
   "source": [
    "**Question 2.** What can you infer from the visualization ?"
   ]
  },
  {
   "cell_type": "markdown",
   "metadata": {},
   "source": [
    "**Replace this line with your response.**"
   ]
  },
  {
   "cell_type": "markdown",
   "metadata": {},
   "source": [
    "Next, let's see if there is a significant difference between economic growth depending on a country's debt-to-gdp ratio. Compute the mean debt-to-gdp growth for countries with a debt-gdp ratio of 0-30%, 30-60%, and 60-90%. Compare each mean and comment and how the differences can be interpreted.\n",
    "\n",
    "A way to read\n",
    "- Columns: the point in which the public debt level reached X% percent of GDP\n",
    "- Rows: Growth (in times of debt)"
   ]
  },
  {
   "cell_type": "code",
   "execution_count": 12,
   "metadata": {},
   "outputs": [
    {
     "name": "stdout",
     "output_type": "stream",
     "text": [
      "0-30 :  3.9470588235294115\n",
      "30-60 :  2.995\n",
      "60-90 :  2.5444444444444447\n"
     ]
    }
   ],
   "source": [
    "# 0-30% mean\n",
    "below30 = gdp.where('0-30%', lambda x: not np.isnan(x)).column('0-30%')\n",
    "print(\"0-30 : \",  below30.mean())\n",
    "\n",
    "# 30-60% mean\n",
    "middle30 = gdp.where('30-60%', lambda x: not np.isnan(x)).column('30-60%')\n",
    "print(\"30-60 : \", middle30.mean())\n",
    "\n",
    "# 60-90% mean\n",
    "upper30 = gdp.where('60-90%', lambda x: not np.isnan(x)).column('60-90%')\n",
    "print(\"60-90 : \", upper30.mean())"
   ]
  },
  {
   "cell_type": "markdown",
   "metadata": {},
   "source": [
    "**Question 3.** Based on your analysis thus far, is there a relationship between being in debt and economic growth? If so, state the relationship and its implications. How does these values compare to the ones in the first portion of the notebook?"
   ]
  },
  {
   "cell_type": "markdown",
   "metadata": {},
   "source": [
    "**Replace this line with your response.**"
   ]
  },
  {
   "cell_type": "markdown",
   "metadata": {},
   "source": [
    "## Conclusions <a id='conclusions'></a>"
   ]
  },
  {
   "cell_type": "markdown",
   "metadata": {},
   "source": [
    "When Herndon, Ash, and Pollin replicated the analysis, there were several problems they found with Reinhart and Rogoff's paper. Some of these problems, we have touched on in our own analysis are coding errors and handling of outliers. As a result, we can see how their approach using excel files to carry out their analysis can be limited and hard for others to reproduce. This project highlights the importance of reproducibility and open source."
   ]
  },
  {
   "cell_type": "markdown",
   "metadata": {},
   "source": [
    "---\n",
    "\n",
    "## Bibliography"
   ]
  },
  {
   "cell_type": "markdown",
   "metadata": {},
   "source": [
    "- Data : https://gist.githubusercontent.com/vincentarelbundock/5409893/raw/a623f2f3bae027a0e51dd01ac5b70d44d909a7b9/RR-processed.csv\n",
    "- Hadley Wickham : https://github.com/hadley/herndon-ash-pollin\n",
    "- Vincent Arel-Bundock (BITSS) : https://github.com/BITSS/RT2_LOSANGELES_2018/blob/master/2b-dynamic-jupyter/notebooks/04_reinhart-rogoff.ipynb\n",
    "\n",
    "\n",
    "---\n",
    "\n",
    "\n",
    "**Additional Resources**:\n",
    "- https://www.washingtonpost.com/news/wonk/wp/2013/04/16/is-the-best-evidence-for-austerity-based-on-an-excel-spreadsheet-error/?noredirect=on&utm_term=.06cb0844795f\n",
    "- http://rooseveltinstitute.org/researchers-finally-replicated-reinhart-rogoff-and-there-are-serious-problems/"
   ]
  },
  {
   "cell_type": "markdown",
   "metadata": {},
   "source": [
    "---\n",
    "Notebook developed by: Lisa Zhou\n",
    "\n",
    "Data Science Modules: http://data.berkeley.edu/education/modules\n"
   ]
  }
 ],
 "metadata": {
  "anaconda-cloud": {},
  "kernelspec": {
   "display_name": "Python 3",
   "language": "python",
   "name": "python3"
  },
  "language_info": {
   "codemirror_mode": {
    "name": "ipython",
    "version": 3
   },
   "file_extension": ".py",
   "mimetype": "text/x-python",
   "name": "python",
   "nbconvert_exporter": "python",
   "pygments_lexer": "ipython3",
   "version": "3.6.5"
  }
 },
 "nbformat": 4,
 "nbformat_minor": 2
}
